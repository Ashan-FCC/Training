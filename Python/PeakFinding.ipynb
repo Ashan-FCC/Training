{
 "cells": [
  {
   "cell_type": "markdown",
   "metadata": {
    "collapsed": true
   },
   "source": [
    "<h3> Finding a Peak </h3>\n",
    "\n",
    "<p> A peak finder runs on an array of numbers and find a peak</p>\n",
    "<p> A number is a peak iff, if its greater than or equal to both its surrounding numbers\n",
    "    If the number is on the edge, only check the for the number next to it. </p>\n",
    "    \n",
    "<b>Problem Statement: Find a peak if it exists in the one dimensional array.</b>\n",
    "\n",
    "The array positions are as follows:\n",
    "1 ,2 , .... n/2, , , n-1 , n\n",
    "\n",
    "If a linear search is used to find the peak, the complexit is O(n)."
   ]
  },
  {
   "cell_type": "markdown",
   "metadata": {
    "collapsed": true
   },
   "source": [
    "Check if A[n/2] < A[n/2 -1] Look at only the left half of the array. ie elements 1 through n/2 -1.<br>\n",
    "Else if A[n/2] < A[n/2 +1] Look at the the right side. ie n/2 +1 through n.<br>\n",
    "Otherwise, you're done. \n",
    "\n",
    "By using the binary search method, we can reduce the algorithm to O(log n)"
   ]
  },
  {
   "cell_type": "markdown",
   "metadata": {},
   "source": [
    "<h3> Finding a peak in 2D </h3>\n",
    "\n",
    "<p> In a 2d array. To find the peak, a given number at index i,j must be greater than or equal to (i+1,j) and (i,j+1) and (i-1,j) and (i,j-1) </p>\n",
    "\n",
    "<b> Greedy Ascent Algorithm </b> \n",
    "\n",
    "Pick a random element in the array. Then go along the array in the increasing order of elements. If you hit a edge or come across a number lower than the current number, change the direction. \n",
    "\n",
    "The complexity of this algorithm is O(n^2)\n",
    "\n",
    "<b> Recursively Finding the peak </b>\n",
    "\n",
    "Find the middle column i such that i = m/2. <br>\n",
    "Find the global maximum of column i. This element is at (i,j) <br>\n",
    "Another way is to find a linear peak on this column. Which will greatly reduce the running time. <br>\n",
    "If A[i-1, j] > A [i,j] Then pick the left columns.\n",
    "Else if A[i+1 , j] > A[i,j] then pick the right columns\n",
    "Else you're done.\n"
   ]
  },
  {
   "cell_type": "markdown",
   "metadata": {
    "collapsed": true
   },
   "source": [
    "$g(X) = O(f(x))$ <br>\n",
    "This means the $g(X)$ has a lower bound and an upper bound by f(x)."
   ]
  },
  {
   "cell_type": "code",
   "execution_count": null,
   "metadata": {
    "collapsed": true
   },
   "outputs": [],
   "source": []
  }
 ],
 "metadata": {
  "anaconda-cloud": {},
  "kernelspec": {
   "display_name": "Python3.5.2",
   "language": "python",
   "name": "python3.5.2"
  },
  "language_info": {
   "codemirror_mode": {
    "name": "ipython",
    "version": 3
   },
   "file_extension": ".py",
   "mimetype": "text/x-python",
   "name": "python",
   "nbconvert_exporter": "python",
   "pygments_lexer": "ipython3",
   "version": "3.5.2"
  }
 },
 "nbformat": 4,
 "nbformat_minor": 1
}
