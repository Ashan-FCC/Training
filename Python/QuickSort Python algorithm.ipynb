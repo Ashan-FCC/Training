{
 "cells": [
  {
   "cell_type": "code",
   "execution_count": 59,
   "metadata": {
    "collapsed": false
   },
   "outputs": [],
   "source": [
    "def partition_qs(A,p,r):\n",
    "    i = p-1;\n",
    "    pivot = A[r];\n",
    "    print(\"Array for p:{} to r:{} - {}\".format(p+1,r+1,A));\n",
    "    for j in range(p,r):\n",
    "        if A[j] < pivot:\n",
    "            temp = A[j];\n",
    "            i += 1;\n",
    "            A[j] = A[i];\n",
    "            A[i] = temp;\n",
    "    i += 1;\n",
    "    temp = A[i];\n",
    "    A[i] =pivot;\n",
    "    A[r]= temp;\n",
    "    print(\"Array for p:{} to r:{} - {}\".format(p+1,r+1,A));\n",
    "    return i;\n",
    "        "
   ]
  },
  {
   "cell_type": "code",
   "execution_count": 56,
   "metadata": {
    "collapsed": false
   },
   "outputs": [],
   "source": [
    "def quick_sort(A,p,r):\n",
    "    if p < r:\n",
    "        q = partition_qs(A,p,r)\n",
    "        print(\"Q: {}\".format(q+1));\n",
    "        quick_sort(A,p,q-1);\n",
    "        quick_sort(A,q+1,r);\n",
    "\n"
   ]
  },
  {
   "cell_type": "code",
   "execution_count": 61,
   "metadata": {
    "collapsed": false
   },
   "outputs": [
    {
     "name": "stdout",
     "output_type": "stream",
     "text": [
      "Array for p:1 to r:14 - [13, 19, 9, 5, 11, 11, 12, 8, 7, 4, 21, 2, 6, 11]\n",
      "Array for p:1 to r:14 - [9, 5, 8, 7, 4, 2, 6, 11, 19, 11, 21, 11, 12, 13]\n",
      "Q: 8\n",
      "Array for p:1 to r:7 - [9, 5, 8, 7, 4, 2, 6, 11, 19, 11, 21, 11, 12, 13]\n",
      "Array for p:1 to r:7 - [5, 4, 2, 6, 9, 8, 7, 11, 19, 11, 21, 11, 12, 13]\n",
      "Q: 4\n",
      "Array for p:1 to r:3 - [5, 4, 2, 6, 9, 8, 7, 11, 19, 11, 21, 11, 12, 13]\n",
      "Array for p:1 to r:3 - [2, 4, 5, 6, 9, 8, 7, 11, 19, 11, 21, 11, 12, 13]\n",
      "Q: 1\n",
      "Array for p:2 to r:3 - [2, 4, 5, 6, 9, 8, 7, 11, 19, 11, 21, 11, 12, 13]\n",
      "Array for p:2 to r:3 - [2, 4, 5, 6, 9, 8, 7, 11, 19, 11, 21, 11, 12, 13]\n",
      "Q: 3\n",
      "Array for p:5 to r:7 - [2, 4, 5, 6, 9, 8, 7, 11, 19, 11, 21, 11, 12, 13]\n",
      "Array for p:5 to r:7 - [2, 4, 5, 6, 7, 8, 9, 11, 19, 11, 21, 11, 12, 13]\n",
      "Q: 5\n",
      "Array for p:6 to r:7 - [2, 4, 5, 6, 7, 8, 9, 11, 19, 11, 21, 11, 12, 13]\n",
      "Array for p:6 to r:7 - [2, 4, 5, 6, 7, 8, 9, 11, 19, 11, 21, 11, 12, 13]\n",
      "Q: 7\n",
      "Array for p:9 to r:14 - [2, 4, 5, 6, 7, 8, 9, 11, 19, 11, 21, 11, 12, 13]\n",
      "Array for p:9 to r:14 - [2, 4, 5, 6, 7, 8, 9, 11, 11, 11, 12, 13, 21, 19]\n",
      "Q: 12\n",
      "Array for p:9 to r:11 - [2, 4, 5, 6, 7, 8, 9, 11, 11, 11, 12, 13, 21, 19]\n",
      "Array for p:9 to r:11 - [2, 4, 5, 6, 7, 8, 9, 11, 11, 11, 12, 13, 21, 19]\n",
      "Q: 11\n",
      "Array for p:9 to r:10 - [2, 4, 5, 6, 7, 8, 9, 11, 11, 11, 12, 13, 21, 19]\n",
      "Array for p:9 to r:10 - [2, 4, 5, 6, 7, 8, 9, 11, 11, 11, 12, 13, 21, 19]\n",
      "Q: 9\n",
      "Array for p:13 to r:14 - [2, 4, 5, 6, 7, 8, 9, 11, 11, 11, 12, 13, 21, 19]\n",
      "Array for p:13 to r:14 - [2, 4, 5, 6, 7, 8, 9, 11, 11, 11, 12, 13, 19, 21]\n",
      "Q: 13\n",
      "[2, 4, 5, 6, 7, 8, 9, 11, 11, 11, 12, 13, 19, 21]\n"
     ]
    }
   ],
   "source": [
    "newarr = [13,19,9,5,11,11,12,8,7,4,21,2,6,11];\n",
    "#print(newarr);\n",
    "quick_sort(newarr,0,len(newarr)-1);\n",
    "print(newarr);"
   ]
  },
  {
   "cell_type": "code",
   "execution_count": null,
   "metadata": {
    "collapsed": true
   },
   "outputs": [],
   "source": []
  }
 ],
 "metadata": {
  "anaconda-cloud": {},
  "kernelspec": {
   "display_name": "Python [conda env:DataScience]",
   "language": "python",
   "name": "conda-env-DataScience-py"
  },
  "language_info": {
   "codemirror_mode": {
    "name": "ipython",
    "version": 3
   },
   "file_extension": ".py",
   "mimetype": "text/x-python",
   "name": "python",
   "nbconvert_exporter": "python",
   "pygments_lexer": "ipython3",
   "version": "3.4.5"
  }
 },
 "nbformat": 4,
 "nbformat_minor": 1
}
